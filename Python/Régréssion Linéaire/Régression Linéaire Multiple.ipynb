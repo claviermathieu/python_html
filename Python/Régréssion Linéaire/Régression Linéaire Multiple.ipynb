{
 "cells": [
  {
   "cell_type": "markdown",
   "metadata": {},
   "source": [
    "# Régression Linéaire Multiple et Polynomiale Numpy\n",
    "\n",
    "Guillaume Saint-Cirgue\n",
    "https://machinelearnia.com/\n"
   ]
  },
  {
   "cell_type": "code",
   "execution_count": 1,
   "metadata": {},
   "outputs": [],
   "source": [
    "import numpy as np\n",
    "from sklearn.datasets import make_regression\n",
    "import matplotlib.pyplot as plt"
   ]
  },
  {
   "cell_type": "markdown",
   "metadata": {},
   "source": [
    "# 1. Régression Polynomiale: 1 variable $x_1$"
   ]
  },
  {
   "cell_type": "markdown",
   "metadata": {},
   "source": [
    "## 1.1 Dataset\n",
    "\n",
    "Pour développer un modèle polynomial à partir des équations de la régression linéaire, il suffit d'ajouter des degrés de polynome dans les colonnes de la matrice $X$ ainsi qu'un nombre égal de lignes dans le vecteur $\\theta$.\n",
    "\n",
    "Dans ce notebook, nous allons développer un ploynome de degré 2: $f(x) = ax^2 + bx + c$. Pour celà, il faut développer les matrices suivantes:\n",
    "\n",
    "$X = \\begin{bmatrix} x^{2 (1)} & x^{(1)} & 1 \\\\ ... & ... & ... \\\\ x^{2 (m)} & x^{(m)} & 1 \\end{bmatrix}$\n",
    "\n",
    "$\\theta = \\begin{bmatrix} a\\\\b\\\\c \\end{bmatrix}$\n",
    "\n",
    "$y = \\begin{bmatrix} y^{(1)}\\\\...\\\\y^{(m)} \\end{bmatrix}$ *note : le vecteur $y$ reste le meme que pour la régression linéaire*"
   ]
  },
  {
   "cell_type": "code",
   "execution_count": 2,
   "metadata": {},
   "outputs": [
    {
     "data": {
      "text/plain": [
       "<matplotlib.collections.PathCollection at 0x24052700a08>"
      ]
     },
     "execution_count": 2,
     "metadata": {},
     "output_type": "execute_result"
    },
    {
     "data": {
      "image/png": "[encoded data removed]",
      "text/plain": [
       "<Figure size 432x288 with 1 Axes>"
      ]
     },
     "metadata": {
      "needs_background": "light"
     },
     "output_type": "display_data"
    }
   ],
   "source": [
    "np.random.seed(0) # permet de reproduire l'aléatoire\n",
    "\n",
    "x, y = make_regression(n_samples=100, n_features=1, noise = 10) # creation d'un dataset (x, y) linéaire\n",
    "y = y + abs(y/2) # modifie les valeurs de y pour rendre le dataset non-linéaire\n",
    "\n",
    "plt.scatter(x, y) # afficher les résultats. x en abscisse et y en ordonnée"
   ]
  },
  {
   "cell_type": "code",
   "execution_count": 3,
   "metadata": {},
   "outputs": [
    {
     "name": "stdout",
     "output_type": "stream",
     "text": [
      "(100, 1)\n",
      "(100,)\n",
      "(100, 1)\n"
     ]
    }
   ],
   "source": [
    "# Verification des dimensions\n",
    "print(x.shape)\n",
    "print(y.shape)\n",
    "\n",
    "# redimensionner y\n",
    "y = y.reshape(y.shape[0], 1)\n",
    "print(y.shape)"
   ]
  },
  {
   "cell_type": "code",
   "execution_count": 4,
   "metadata": {},
   "outputs": [
    {
     "name": "stdout",
     "output_type": "stream",
     "text": [
      "(100, 3)\n",
      "[[ 0.12927848 -0.35955316  1.        ]\n",
      " [ 0.95382381  0.97663904  1.        ]\n",
      " [ 0.1618788   0.40234164  1.        ]\n",
      " [ 0.66120688 -0.81314628  1.        ]\n",
      " [ 0.78816353 -0.88778575  1.        ]\n",
      " [ 0.19701457  0.44386323  1.        ]\n",
      " [ 0.95507205 -0.97727788  1.        ]\n",
      " [ 0.18346819  0.42833187  1.        ]\n",
      " [ 0.04337847  0.20827498  1.        ]\n",
      " [ 0.09706498 -0.31155253  1.        ]]\n"
     ]
    }
   ],
   "source": [
    "# Création de la matrice X, inclut le Biais\n",
    "X = np.hstack((x, np.ones(x.shape)))\n",
    "X = np.hstack((x**2, X)) # ajoute le vecteur x^2 a la gauche de la matrice X\n",
    "\n",
    "print(X.shape)\n",
    "print(X[:10])"
   ]
  },
  {
   "cell_type": "code",
   "execution_count": 5,
   "metadata": {},
   "outputs": [
    {
     "data": {
      "text/plain": [
       "array([[-0.63743703],\n",
       "       [-0.39727181],\n",
       "       [-0.13288058]])"
      ]
     },
     "execution_count": 5,
     "metadata": {},
     "output_type": "execute_result"
    }
   ],
   "source": [
    "# Initialisation du vecteur theta aléatoire, avec 3 éléments (car X a trois colonnes)\n",
    "theta = np.random.randn(3, 1)\n",
    "theta"
   ]
  },
  {
   "cell_type": "markdown",
   "metadata": {},
   "source": [
    "## 1.2 Modèle Linéaire\n",
    "On implémente un modèle $F = X.\\theta$, puis on teste le modèle pour voir s'il n'y a pas de bug (bonne pratique oblige). En plus, cela permet de voir à quoi ressemble le modèle initial, défini par la valeur de $\\theta$"
   ]
  },
  {
   "cell_type": "code",
   "execution_count": 6,
   "metadata": {},
   "outputs": [],
   "source": [
    "def model(X, theta):\n",
    "    return X.dot(theta)"
   ]
  },
  {
   "cell_type": "code",
   "execution_count": 7,
   "metadata": {},
   "outputs": [
    {
     "data": {
      "text/plain": [
       "<matplotlib.collections.PathCollection at 0x240527cbe48>"
      ]
     },
     "execution_count": 7,
     "metadata": {},
     "output_type": "execute_result"
    },
    {
     "data": {
      "image/png": "[encoded data removed]",
      "text/plain": [
       "<Figure size 432x288 with 1 Axes>"
      ]
     },
     "metadata": {
      "needs_background": "light"
     },
     "output_type": "display_data"
    }
   ],
   "source": [
    "plt.scatter(x, y)\n",
    "plt.scatter(x, model(X, theta), c='r')"
   ]
  },
  {
   "cell_type": "markdown",
   "metadata": {},
   "source": [
    "## 1.3 Fonction Cout :  Erreur Quadratique moyenne\n",
    "On mesure les erreurs du modele sur le Dataset X, y en implémenter l'Erreur Quadratique Moyenne,  **Mean Squared Error (MSE)** en anglais.\n",
    "\n",
    "$ J(\\theta) = \\frac{1}{2m} \\sum (X.\\theta - y)^2 $\n",
    "\n",
    "Ensuite, on teste notre fonction, pour voir s'il n'y a pas de bug"
   ]
  },
  {
   "cell_type": "code",
   "execution_count": 8,
   "metadata": {},
   "outputs": [],
   "source": [
    "def cost_function(X, y, theta):\n",
    "    m = len(y)\n",
    "    return 1/(2*m) * np.sum((model(X, theta) - y)**2)"
   ]
  },
  {
   "cell_type": "code",
   "execution_count": 9,
   "metadata": {},
   "outputs": [
    {
     "data": {
      "text/plain": [
       "1328.6654828872622"
      ]
     },
     "execution_count": 9,
     "metadata": {},
     "output_type": "execute_result"
    }
   ],
   "source": [
    "cost_function(X, y, theta)"
   ]
  },
  {
   "cell_type": "markdown",
   "metadata": {},
   "source": [
    "## 1.4 Gradients et Descente de Gradient\n",
    "On implémente la formule du gradient pour la **MSE**\n",
    "\n",
    "$\\frac{\\partial J(\\theta) }{\\partial \\theta} = \\frac{1}{m} X^T.(X.\\theta - y)$\n",
    "\n",
    "Ensuite on utilise cette fonction dans la descente de gradient:\n",
    "\n",
    "$\\theta = \\theta - \\alpha \\frac{\\partial J(\\theta) }{\\partial \\theta}$\n"
   ]
  },
  {
   "cell_type": "code",
   "execution_count": 10,
   "metadata": {},
   "outputs": [],
   "source": [
    "def grad(X, y, theta):\n",
    "    m = len(y)\n",
    "    return 1/m * X.T.dot(model(X, theta) - y)"
   ]
  },
  {
   "cell_type": "code",
   "execution_count": 11,
   "metadata": {},
   "outputs": [],
   "source": [
    "def gradient_descent(X, y, theta, learning_rate, n_iterations):\n",
    "    \n",
    "    cost_history = np.zeros(n_iterations) # création d'un tableau de stockage pour enregistrer l'évolution du Cout du modele\n",
    "    \n",
    "    for i in range(0, n_iterations):\n",
    "        theta = theta - learning_rate * grad(X, y, theta) # mise a jour du parametre theta (formule du gradient descent)\n",
    "        cost_history[i] = cost_function(X, y, theta) # on enregistre la valeur du Cout au tour i dans cost_history[i]\n",
    "        \n",
    "    return theta, cost_history"
   ]
  },
  {
   "cell_type": "markdown",
   "metadata": {},
   "source": [
    "## 1.5 Phase d'entrainement\n",
    "On définit un **nombre d'itérations**, ainsi qu'un **pas d'apprentissage $\\alpha$**, et c'est partit !\n",
    "\n",
    "Une fois le modèle entrainé, on observe les resultats par rapport a notre Dataset"
   ]
  },
  {
   "cell_type": "code",
   "execution_count": 12,
   "metadata": {},
   "outputs": [],
   "source": [
    "n_iterations = 1000\n",
    "learning_rate = 0.01\n",
    "\n",
    "theta_final, cost_history = gradient_descent(X, y, theta, learning_rate, n_iterations)"
   ]
  },
  {
   "cell_type": "code",
   "execution_count": 13,
   "metadata": {},
   "outputs": [
    {
     "data": {
      "text/plain": [
       "array([[ 8.60077615],\n",
       "       [42.23116732],\n",
       "       [ 8.18143081]])"
      ]
     },
     "execution_count": 13,
     "metadata": {},
     "output_type": "execute_result"
    }
   ],
   "source": [
    "theta_final # voici les parametres du modele une fois que la machine a été entrainée"
   ]
  },
  {
   "cell_type": "code",
   "execution_count": 14,
   "metadata": {},
   "outputs": [
    {
     "data": {
      "text/plain": [
       "<matplotlib.collections.PathCollection at 0x2405284ee88>"
      ]
     },
     "execution_count": 14,
     "metadata": {},
     "output_type": "execute_result"
    },
    {
     "data": {
      "image/png": "[encoded data removed]",
      "text/plain": [
       "<Figure size 432x288 with 1 Axes>"
      ]
     },
     "metadata": {
      "needs_background": "light"
     },
     "output_type": "display_data"
    }
   ],
   "source": [
    "# création d'un vecteur prédictions qui contient les prédictions de notre modele final\n",
    "predictions = model(X, theta_final)\n",
    "\n",
    "# Affiche les résultats de prédictions (en rouge) par rapport a notre Dataset (en bleu)\n",
    "plt.scatter(x, y)\n",
    "plt.scatter(x, predictions, c='r')"
   ]
  },
  {
   "cell_type": "markdown",
   "metadata": {},
   "source": [
    "## 1.6 Courbes d'apprentissage\n",
    "Pour vérifier si notre algorithme de Descente de gradient a bien fonctionné, on observe l'évolution de la fonction cout à travers les itérations. On est sensé obtenir une courbe qui diminue à chaque itération jusqu'à stagner a un niveau minimal (proche de zéro). Si la courbe ne suit pas ce motif, alors le pas **learning_rate** est peut-etre trop élevé, il faut prendre un pas plus faible."
   ]
  },
  {
   "cell_type": "code",
   "execution_count": 15,
   "metadata": {},
   "outputs": [
    {
     "data": {
      "text/plain": [
       "[<matplotlib.lines.Line2D at 0x24052891d48>]"
      ]
     },
     "execution_count": 15,
     "metadata": {},
     "output_type": "execute_result"
    },
    {
     "data": {
      "image/png": "[encoded data removed]",
      "text/plain": [
       "<Figure size 432x288 with 1 Axes>"
      ]
     },
     "metadata": {
      "needs_background": "light"
     },
     "output_type": "display_data"
    }
   ],
   "source": [
    "plt.plot(range(n_iterations), cost_history)"
   ]
  },
  {
   "cell_type": "markdown",
   "metadata": {},
   "source": [
    "## 1.7 Evaluation finale\n",
    "Pour évaluer la réelle performance de notre modèle avec une métrique populaire (pour votre patron, client, ou vos collegues) on peut utiliser le **coefficient de détermination**, aussi connu sous le nom $R^2$. Il nous vient de la méthode des moindres carrés. Plus le résultat est proche de 1, meilleur est votre modèle"
   ]
  },
  {
   "cell_type": "code",
   "execution_count": 16,
   "metadata": {},
   "outputs": [],
   "source": [
    "def coef_determination(y, pred):\n",
    "    u = ((y - pred)**2).sum()\n",
    "    v = ((y - y.mean())**2).sum()\n",
    "    return 1 - u/v"
   ]
  },
  {
   "cell_type": "code",
   "execution_count": 17,
   "metadata": {},
   "outputs": [
    {
     "data": {
      "text/plain": [
       "0.9287186469389942"
      ]
     },
     "execution_count": 17,
     "metadata": {},
     "output_type": "execute_result"
    }
   ],
   "source": [
    "coef_determination(y, predictions)"
   ]
  },
  {
   "cell_type": "markdown",
   "metadata": {},
   "source": [
    "# 2. Régression Multiples Variables\n",
    "C'est lorsqu'on integre plusieures variables $x_1, x_2, x_3, etc.$ à notre modèle que les choses commencent à devenir vraiment intéressantes. C'est peut-être aussi à ce moment que les gens commencent parfois à parler *d'intelligence artificielle*, car il est difficile pour un être humain de se représenter dans sa tête un modèle à plusieurs dimensions (nous n'évoluons que dans un espace 3D). On se dit alors que la machine, quant à elle, arrive à se réprésenter ces espaces, car elle y trouve le meilleur modèle (avec la descente de gradient) et les gens disent donc qu'elle est intelligente, alors que ce ne sont que des mathématiques.\n",
    "\n",
    "## 2.1 Dataset\n",
    "\n",
    "\n",
    "Dans ce notbook, nous allons créer un modèle à 2 variables $x_1, x_2$. Pour cela, il suffit d'injecter les différentes variables $x_1, x_2$ (les **features** en anglais) dans la matrice $X$, et de créer le vecteur $\\theta$ qui s'accorde avec:\n",
    "\n",
    "\n",
    "\n",
    "$X = \\begin{bmatrix} x^{(1)}_1 & x^{(1)}_2 & 1 \\\\ ... & ... & ... \\\\ x^{(m)}_1 & x^{(m)}_2 & 1 \\end{bmatrix}$\n",
    "\n",
    "$\\theta = \\begin{bmatrix} a\\\\b\\\\c \\end{bmatrix}$\n",
    "\n",
    "$y = \\begin{bmatrix} y^{(1)}\\\\...\\\\y^{(m)} \\end{bmatrix}$ *note : le vecteur $y$ reste le meme que pour la régression linéaire*\n"
   ]
  },
  {
   "cell_type": "code",
   "execution_count": 18,
   "metadata": {},
   "outputs": [
    {
     "data": {
      "text/plain": [
       "<matplotlib.collections.PathCollection at 0x24052916e88>"
      ]
     },
     "execution_count": 18,
     "metadata": {},
     "output_type": "execute_result"
    },
    {
     "data": {
      "image/png": "[encoded data removed]",
      "text/plain": [
       "<Figure size 432x288 with 1 Axes>"
      ]
     },
     "metadata": {
      "needs_background": "light"
     },
     "output_type": "display_data"
    }
   ],
   "source": [
    "np.random.seed(0) # permet de reproduire l'aléatoire\n",
    "\n",
    "x, y = make_regression(n_samples=100, n_features=2, noise = 10) # creation d'un dataset (x, y) linéaire\n",
    "\n",
    "plt.scatter(x[:,0], y) # afficher les résultats. x_1 en abscisse et y en ordonnée"
   ]
  },
  {
   "cell_type": "markdown",
   "metadata": {},
   "source": [
    "Ce Dataset ne contenant que 2 variables $x_1 et x_2$ il est possible de le visualiser dans un espace 3D. Comme vous pouvez le voir, ce modèle peut être représenté par une surface. Au passage, cette surface est plane car make_regression nous retourne des données linéaire. Si on veut créer une surface non plane, il suffit de modifier la valeur de y comme nous l'avons fait au début de ce notebook. (Nous ne le ferons pas ici)"
   ]
  },
  {
   "cell_type": "code",
   "execution_count": 21,
   "metadata": {},
   "outputs": [
    {
     "data": {
      "application/javascript": [
       "/* Put everything inside the global mpl namespace */\n",
       "window.mpl = {};\n",
       "\n",
       "\n",
       "mpl.get_websocket_type = function() {\n",
       "    if (typeof(WebSocket) !== 'undefined') {\n",
       "        return WebSocket;\n",
       "    } else if (typeof(MozWebSocket) !== 'undefined') {\n",
       "        return MozWebSocket;\n",
       "    } else {\n",
       "        alert('Your browser does not have WebSocket support. ' +\n",
       "              'Please try Chrome, Safari or Firefox ≥ 6. ' +\n",
       "              'Firefox 4 and 5 are also supported but you ' +\n",
       "              'have to enable WebSockets in about:config.');\n",
       "    };\n",
       "}\n",
       "\n",
       "mpl.figure = function(figure_id, websocket, ondownload, parent_element) {\n",
       "    this.id = figure_id;\n",
       "\n",
       "    this.ws = websocket;\n",
       "\n",
       "    this.supports_binary = (this.ws.binaryType != undefined);\n",
       "\n",
       "    if (!this.supports_binary) {\n",
       "        var warnings = document.getElementById(\"mpl-warnings\");\n",
       "        if (warnings) {\n",
       "            warnings.style.display = 'block';\n",
       "            warnings.textContent = (\n",
       "                \"This browser does not support binary websocket messages. \" +\n",
       "                    \"Performance may be slow.\");\n",
       "        }\n",
       "    }\n",
       "\n",
       "    this.imageObj = new Image();\n",
       "\n",
       "    this.context = undefined;\n",
       "    this.message = undefined;\n",
       "    this.canvas = undefined;\n",
       "    this.rubberband_canvas = undefined;\n",
       "    this.rubberband_context = undefined;\n",
       "    this.format_dropdown = undefined;\n",
       "\n",
       "    this.image_mode = 'full';\n",
       "\n",
       "    this.root = $('<div/>');\n",
       "    this._root_extra_style(this.root)\n",
       "    this.root.attr('style', 'display: inline-block');\n",
       "\n",
       "    $(parent_element).append(this.root);\n",
       "\n",
       "    this._init_header(this);\n",
       "    this._init_canvas(this);\n",
       "    this._init_toolbar(this);\n",
       "\n",
       "    var fig = this;\n",
       "\n",
       "    this.waiting = false;\n",
       "\n",
       "    this.ws.onopen =  function () {\n",
       "            fig.send_message(\"supports_binary\", {value: fig.supports_binary});\n",
       "            fig.send_message(\"send_image_mode\", {});\n",
       "            if (mpl.ratio != 1) {\n",
       "                fig.send_message(\"set_dpi_ratio\", {'dpi_ratio': mpl.ratio});\n",
       "            }\n",
       "            fig.send_message(\"refresh\", {});\n",
       "        }\n",
       "\n",
       "    this.imageObj.onload = function() {\n",
       "            if (fig.image_mode == 'full') {\n",
       "                // Full images could contain transparency (where diff images\n",
       "                // almost always do), so we need to clear the canvas so that\n",
       "                // there is no ghosting.\n",
       "                fig.context.clearRect(0, 0, fig.canvas.width, fig.canvas.height);\n",
       "            }\n",
       "            fig.context.drawImage(fig.imageObj, 0, 0);\n",
       "        };\n",
       "\n",
       "    this.imageObj.onunload = function() {\n",
       "        fig.ws.close();\n",
       "    }\n",
       "\n",
       "    this.ws.onmessage = this._make_on_message_function(this);\n",
       "\n",
       "    this.ondownload = ondownload;\n",
       "}\n",
       "\n",
       "mpl.figure.prototype._init_header = function() {\n",
       "    var titlebar = $(\n",
       "        '<div class=\"ui-dialog-titlebar ui-widget-header ui-corner-all ' +\n",
       "        'ui-helper-clearfix\"/>');\n",
       "    var titletext = $(\n",
       "        '<div class=\"ui-dialog-title\" style=\"width: 100%; ' +\n",
       "        'text-align: center; padding: 3px;\"/>');\n",
       "    titlebar.append(titletext)\n",
       "    this.root.append(titlebar);\n",
       "    this.header = titletext[0];\n",
       "}\n",
       "\n",
       "\n",
       "\n",
       "mpl.figure.prototype._canvas_extra_style = function(canvas_div) {\n",
       "\n",
       "}\n",
       "\n",
       "\n",
       "mpl.figure.prototype._root_extra_style = function(canvas_div) {\n",
       "\n",
       "}\n",
       "\n",
       "mpl.figure.prototype._init_canvas = function() {\n",
       "    var fig = this;\n",
       "\n",
       "    var canvas_div = $('<div/>');\n",
       "\n",
       "    canvas_div.attr('style', 'position: relative; clear: both; outline: 0');\n",
       "\n",
       "    function canvas_keyboard_event(event) {\n",
       "        return fig.key_event(event, event['data']);\n",
       "    }\n",
       "\n",
       "    canvas_div.keydown('key_press', canvas_keyboard_event);\n",
       "    canvas_div.keyup('key_release', canvas_keyboard_event);\n",
       "    this.canvas_div = canvas_div\n",
       "    this._canvas_extra_style(canvas_div)\n",
       "    this.root.append(canvas_div);\n",
       "\n",
       "    var canvas = $('<canvas/>');\n",
       "    canvas.addClass('mpl-canvas');\n",
       "    canvas.attr('style', \"left: 0; top: 0; z-index: 0; outline: 0\")\n",
       "\n",
       "    this.canvas = canvas[0];\n",
       "    this.context = canvas[0].getContext(\"2d\");\n",
       "\n",
       "    var backingStore = this.context.backingStorePixelRatio ||\n",
       "\tthis.context.webkitBackingStorePixelRatio ||\n",
       "\tthis.context.mozBackingStorePixelRatio ||\n",
       "\tthis.context.msBackingStorePixelRatio ||\n",
       "\tthis.context.oBackingStorePixelRatio ||\n",
       "\tthis.context.backingStorePixelRatio || 1;\n",
       "\n",
       "    mpl.ratio = (window.devicePixelRatio || 1) / backingStore;\n",
       "\n",
       "    var rubberband = $('<canvas/>');\n",
       "    rubberband.attr('style', \"position: absolute; left: 0; top: 0; z-index: 1;\")\n",
       "\n",
       "    var pass_mouse_events = true;\n",
       "\n",
       "    canvas_div.resizable({\n",
       "        start: function(event, ui) {\n",
       "            pass_mouse_events = false;\n",
       "        },\n",
       "        resize: function(event, ui) {\n",
       "            fig.request_resize(ui.size.width, ui.size.height);\n",
       "        },\n",
       "        stop: function(event, ui) {\n",
       "            pass_mouse_events = true;\n",
       "            fig.request_resize(ui.size.width, ui.size.height);\n",
       "        },\n",
       "    });\n",
       "\n",
       "    function mouse_event_fn(event) {\n",
       "        if (pass_mouse_events)\n",
       "            return fig.mouse_event(event, event['data']);\n",
       "    }\n",
       "\n",
       "    rubberband.mousedown('button_press', mouse_event_fn);\n",
       "    rubberband.mouseup('button_release', mouse_event_fn);\n",
       "    // Throttle sequential mouse events to 1 every 20ms.\n",
       "    rubberband.mousemove('motion_notify', mouse_event_fn);\n",
       "\n",
       "    rubberband.mouseenter('figure_enter', mouse_event_fn);\n",
       "    rubberband.mouseleave('figure_leave', mouse_event_fn);\n",
       "\n",
       "    canvas_div.on(\"wheel\", function (event) {\n",
       "        event = event.originalEvent;\n",
       "        event['data'] = 'scroll'\n",
       "        if (event.deltaY < 0) {\n",
       "            event.step = 1;\n",
       "        } else {\n",
       "            event.step = -1;\n",
       "        }\n",
       "        mouse_event_fn(event);\n",
       "    });\n",
       "\n",
       "    canvas_div.append(canvas);\n",
       "    canvas_div.append(rubberband);\n",
       "\n",
       "    this.rubberband = rubberband;\n",
       "    this.rubberband_canvas = rubberband[0];\n",
       "    this.rubberband_context = rubberband[0].getContext(\"2d\");\n",
       "    this.rubberband_context.strokeStyle = \"#000000\";\n",
       "\n",
       "    this._resize_canvas = function(width, height) {\n",
       "        // Keep the size of the canvas, canvas container, and rubber band\n",
       "        // canvas in synch.\n",
       "        canvas_div.css('width', width)\n",
       "        canvas_div.css('height', height)\n",
       "\n",
       "        canvas.attr('width', width * mpl.ratio);\n",
       "        canvas.attr('height', height * mpl.ratio);\n",
       "        canvas.attr('style', 'width: ' + width + 'px; height: ' + height + 'px;');\n",
       "\n",
       "        rubberband.attr('width', width);\n",
       "        rubberband.attr('height', height);\n",
       "    }\n",
       "\n",
       "    // Set the figure to an initial 600x600px, this will subsequently be updated\n",
       "    // upon first draw.\n",
       "    this._resize_canvas(600, 600);\n",
       "\n",
       "    // Disable right mouse context menu.\n",
       "    $(this.rubberband_canvas).bind(\"contextmenu\",function(e){\n",
       "        return false;\n",
       "    });\n",
       "\n",
       "    function set_focus () {\n",
       "        canvas.focus();\n",
       "        canvas_div.focus();\n",
       "    }\n",
       "\n",
       "    window.setTimeout(set_focus, 100);\n",
       "}\n",
       "\n",
       "mpl.figure.prototype._init_toolbar = function() {\n",
       "    var fig = this;\n",
       "\n",
       "    var nav_element = $('<div/>');\n",
       "    nav_element.attr('style', 'width: 100%');\n",
       "    this.root.append(nav_element);\n",
       "\n",
       "    // Define a callback function for later on.\n",
       "    function toolbar_event(event) {\n",
       "        return fig.toolbar_button_onclick(event['data']);\n",
       "    }\n",
       "    function toolbar_mouse_event(event) {\n",
       "        return fig.toolbar_button_onmouseover(event['data']);\n",
       "    }\n",
       "\n",
       "    for(var toolbar_ind in mpl.toolbar_items) {\n",
       "        var name = mpl.toolbar_items[toolbar_ind][0];\n",
       "        var tooltip = mpl.toolbar_items[toolbar_ind][1];\n",
       "        var image = mpl.toolbar_items[toolbar_ind][2];\n",
       "        var method_name = mpl.toolbar_items[toolbar_ind][3];\n",
       "\n",
       "        if (!name) {\n",
       "            // put a spacer in here.\n",
       "            continue;\n",
       "        }\n",
       "        var button = $('<button/>');\n",
       "        button.addClass('ui-button ui-widget ui-state-default ui-corner-all ' +\n",
       "                        'ui-button-icon-only');\n",
       "        button.attr('role', 'button');\n",
       "        button.attr('aria-disabled', 'false');\n",
       "        button.click(method_name, toolbar_event);\n",
       "        button.mouseover(tooltip, toolbar_mouse_event);\n",
       "\n",
       "        var icon_img = $('<span/>');\n",
       "        icon_img.addClass('ui-button-icon-primary ui-icon');\n",
       "        icon_img.addClass(image);\n",
       "        icon_img.addClass('ui-corner-all');\n",
       "\n",
       "        var tooltip_span = $('<span/>');\n",
       "        tooltip_span.addClass('ui-button-text');\n",
       "        tooltip_span.html(tooltip);\n",
       "\n",
       "        button.append(icon_img);\n",
       "        button.append(tooltip_span);\n",
       "\n",
       "        nav_element.append(button);\n",
       "    }\n",
       "\n",
       "    var fmt_picker_span = $('<span/>');\n",
       "\n",
       "    var fmt_picker = $('<select/>');\n",
       "    fmt_picker.addClass('mpl-toolbar-option ui-widget ui-widget-content');\n",
       "    fmt_picker_span.append(fmt_picker);\n",
       "    nav_element.append(fmt_picker_span);\n",
       "    this.format_dropdown = fmt_picker[0];\n",
       "\n",
       "    for (var ind in mpl.extensions) {\n",
       "        var fmt = mpl.extensions[ind];\n",
       "        var option = $(\n",
       "            '<option/>', {selected: fmt === mpl.default_extension}).html(fmt);\n",
       "        fmt_picker.append(option);\n",
       "    }\n",
       "\n",
       "    // Add hover states to the ui-buttons\n",
       "    $( \".ui-button\" ).hover(\n",
       "        function() { $(this).addClass(\"ui-state-hover\");},\n",
       "        function() { $(this).removeClass(\"ui-state-hover\");}\n",
       "    );\n",
       "\n",
       "    var status_bar = $('<span class=\"mpl-message\"/>');\n",
       "    nav_element.append(status_bar);\n",
       "    this.message = status_bar[0];\n",
       "}\n",
       "\n",
       "mpl.figure.prototype.request_resize = function(x_pixels, y_pixels) {\n",
       "    // Request matplotlib to resize the figure. Matplotlib will then trigger a resize in the client,\n",
       "    // which will in turn request a refresh of the image.\n",
       "    this.send_message('resize', {'width': x_pixels, 'height': y_pixels});\n",
       "}\n",
       "\n",
       "mpl.figure.prototype.send_message = function(type, properties) {\n",
       "    properties['type'] = type;\n",
       "    properties['figure_id'] = this.id;\n",
       "    this.ws.send(JSON.stringify(properties));\n",
       "}\n",
       "\n",
       "mpl.figure.prototype.send_draw_message = function() {\n",
       "    if (!this.waiting) {\n",
       "        this.waiting = true;\n",
       "        this.ws.send(JSON.stringify({type: \"draw\", figure_id: this.id}));\n",
       "    }\n",
       "}\n",
       "\n",
       "\n",
       "mpl.figure.prototype.handle_save = function(fig, msg) {\n",
       "    var format_dropdown = fig.format_dropdown;\n",
       "    var format = format_dropdown.options[format_dropdown.selectedIndex].value;\n",
       "    fig.ondownload(fig, format);\n",
       "}\n",
       "\n",
       "\n",
       "mpl.figure.prototype.handle_resize = function(fig, msg) {\n",
       "    var size = msg['size'];\n",
       "    if (size[0] != fig.canvas.width || size[1] != fig.canvas.height) {\n",
       "        fig._resize_canvas(size[0], size[1]);\n",
       "        fig.send_message(\"refresh\", {});\n",
       "    };\n",
       "}\n",
       "\n",
       "mpl.figure.prototype.handle_rubberband = function(fig, msg) {\n",
       "    var x0 = msg['x0'] / mpl.ratio;\n",
       "    var y0 = (fig.canvas.height - msg['y0']) / mpl.ratio;\n",
       "    var x1 = msg['x1'] / mpl.ratio;\n",
       "    var y1 = (fig.canvas.height - msg['y1']) / mpl.ratio;\n",
       "    x0 = Math.floor(x0) + 0.5;\n",
       "    y0 = Math.floor(y0) + 0.5;\n",
       "    x1 = Math.floor(x1) + 0.5;\n",
       "    y1 = Math.floor(y1) + 0.5;\n",
       "    var min_x = Math.min(x0, x1);\n",
       "    var min_y = Math.min(y0, y1);\n",
       "    var width = Math.abs(x1 - x0);\n",
       "    var height = Math.abs(y1 - y0);\n",
       "\n",
       "    fig.rubberband_context.clearRect(\n",
       "        0, 0, fig.canvas.width / mpl.ratio, fig.canvas.height / mpl.ratio);\n",
       "\n",
       "    fig.rubberband_context.strokeRect(min_x, min_y, width, height);\n",
       "}\n",
       "\n",
       "mpl.figure.prototype.handle_figure_label = function(fig, msg) {\n",
       "    // Updates the figure title.\n",
       "    fig.header.textContent = msg['label'];\n",
       "}\n",
       "\n",
       "mpl.figure.prototype.handle_cursor = function(fig, msg) {\n",
       "    var cursor = msg['cursor'];\n",
       "    switch(cursor)\n",
       "    {\n",
       "    case 0:\n",
       "        cursor = 'pointer';\n",
       "        break;\n",
       "    case 1:\n",
       "        cursor = 'default';\n",
       "        break;\n",
       "    case 2:\n",
       "        cursor = 'crosshair';\n",
       "        break;\n",
       "    case 3:\n",
       "        cursor = 'move';\n",
       "        break;\n",
       "    }\n",
       "    fig.rubberband_canvas.style.cursor = cursor;\n",
       "}\n",
       "\n",
       "mpl.figure.prototype.handle_message = function(fig, msg) {\n",
       "    fig.message.textContent = msg['message'];\n",
       "}\n",
       "\n",
       "mpl.figure.prototype.handle_draw = function(fig, msg) {\n",
       "    // Request the server to send over a new figure.\n",
       "    fig.send_draw_message();\n",
       "}\n",
       "\n",
       "mpl.figure.prototype.handle_image_mode = function(fig, msg) {\n",
       "    fig.image_mode = msg['mode'];\n",
       "}\n",
       "\n",
       "mpl.figure.prototype.updated_canvas_event = function() {\n",
       "    // Called whenever the canvas gets updated.\n",
       "    this.send_message(\"ack\", {});\n",
       "}\n",
       "\n",
       "// A function to construct a web socket function for onmessage handling.\n",
       "// Called in the figure constructor.\n",
       "mpl.figure.prototype._make_on_message_function = function(fig) {\n",
       "    return function socket_on_message(evt) {\n",
       "        if (evt.data instanceof Blob) {\n",
       "            /* FIXME: We get \"Resource interpreted as Image but\n",
       "             * transferred with MIME type text/plain:\" errors on\n",
       "             * Chrome.  But how to set the MIME type?  It doesn't seem\n",
       "             * to be part of the websocket stream */\n",
       "            evt.data.type = \"image/png\";\n",
       "\n",
       "            /* Free the memory for the previous frames */\n",
       "            if (fig.imageObj.src) {\n",
       "                (window.URL || window.webkitURL).revokeObjectURL(\n",
       "                    fig.imageObj.src);\n",
       "            }\n",
       "\n",
       "            fig.imageObj.src = (window.URL || window.webkitURL).createObjectURL(\n",
       "                evt.data);\n",
       "            fig.updated_canvas_event();\n",
       "            fig.waiting = false;\n",
       "            return;\n",
       "        }\n",
       "        else if (typeof evt.data === 'string' && evt.data.slice(0, 21) == \"data:image/png;base64\") {\n",
       "            fig.imageObj.src = evt.data;\n",
       "            fig.updated_canvas_event();\n",
       "            fig.waiting = false;\n",
       "            return;\n",
       "        }\n",
       "\n",
       "        var msg = JSON.parse(evt.data);\n",
       "        var msg_type = msg['type'];\n",
       "\n",
       "        // Call the  \"handle_{type}\" callback, which takes\n",
       "        // the figure and JSON message as its only arguments.\n",
       "        try {\n",
       "            var callback = fig[\"handle_\" + msg_type];\n",
       "        } catch (e) {\n",
       "            console.log(\"No handler for the '\" + msg_type + \"' message type: \", msg);\n",
       "            return;\n",
       "        }\n",
       "\n",
       "        if (callback) {\n",
       "            try {\n",
       "                // console.log(\"Handling '\" + msg_type + \"' message: \", msg);\n",
       "                callback(fig, msg);\n",
       "            } catch (e) {\n",
       "                console.log(\"Exception inside the 'handler_\" + msg_type + \"' callback:\", e, e.stack, msg);\n",
       "            }\n",
       "        }\n",
       "    };\n",
       "}\n",
       "\n",
       "// from http://stackoverflow.com/questions/1114465/getting-mouse-location-in-canvas\n",
       "mpl.findpos = function(e) {\n",
       "    //this section is from http://www.quirksmode.org/js/events_properties.html\n",
       "    var targ;\n",
       "    if (!e)\n",
       "        e = window.event;\n",
       "    if (e.target)\n",
       "        targ = e.target;\n",
       "    else if (e.srcElement)\n",
       "        targ = e.srcElement;\n",
       "    if (targ.nodeType == 3) // defeat Safari bug\n",
       "        targ = targ.parentNode;\n",
       "\n",
       "    // jQuery normalizes the pageX and pageY\n",
       "    // pageX,Y are the mouse positions relative to the document\n",
       "    // offset() returns the position of the element relative to the document\n",
       "    var x = e.pageX - $(targ).offset().left;\n",
       "    var y = e.pageY - $(targ).offset().top;\n",
       "\n",
       "    return {\"x\": x, \"y\": y};\n",
       "};\n",
       "\n",
       "/*\n",
       " * return a copy of an object with only non-object keys\n",
       " * we need this to avoid circular references\n",
       " * http://stackoverflow.com/a/24161582/3208463\n",
       " */\n",
       "function simpleKeys (original) {\n",
       "  return Object.keys(original).reduce(function (obj, key) {\n",
       "    if (typeof original[key] !== 'object')\n",
       "        obj[key] = original[key]\n",
       "    return obj;\n",
       "  }, {});\n",
       "}\n",
       "\n",
       "mpl.figure.prototype.mouse_event = function(event, name) {\n",
       "    var canvas_pos = mpl.findpos(event)\n",
       "\n",
       "    if (name === 'button_press')\n",
       "    {\n",
       "        this.canvas.focus();\n",
       "        this.canvas_div.focus();\n",
       "    }\n",
       "\n",
       "    var x = canvas_pos.x * mpl.ratio;\n",
       "    var y = canvas_pos.y * mpl.ratio;\n",
       "\n",
       "    this.send_message(name, {x: x, y: y, button: event.button,\n",
       "                             step: event.step,\n",
       "                             guiEvent: simpleKeys(event)});\n",
       "\n",
       "    /* This prevents the web browser from automatically changing to\n",
       "     * the text insertion cursor when the button is pressed.  We want\n",
       "     * to control all of the cursor setting manually through the\n",
       "     * 'cursor' event from matplotlib */\n",
       "    event.preventDefault();\n",
       "    return false;\n",
       "}\n",
       "\n",
       "mpl.figure.prototype._key_event_extra = function(event, name) {\n",
       "    // Handle any extra behaviour associated with a key event\n",
       "}\n",
       "\n",
       "mpl.figure.prototype.key_event = function(event, name) {\n",
       "\n",
       "    // Prevent repeat events\n",
       "    if (name == 'key_press')\n",
       "    {\n",
       "        if (event.which === this._key)\n",
       "            return;\n",
       "        else\n",
       "            this._key = event.which;\n",
       "    }\n",
       "    if (name == 'key_release')\n",
       "        this._key = null;\n",
       "\n",
       "    var value = '';\n",
       "    if (event.ctrlKey && event.which != 17)\n",
       "        value += \"ctrl+\";\n",
       "    if (event.altKey && event.which != 18)\n",
       "        value += \"alt+\";\n",
       "    if (event.shiftKey && event.which != 16)\n",
       "        value += \"shift+\";\n",
       "\n",
       "    value += 'k';\n",
       "    value += event.which.toString();\n",
       "\n",
       "    this._key_event_extra(event, name);\n",
       "\n",
       "    this.send_message(name, {key: value,\n",
       "                             guiEvent: simpleKeys(event)});\n",
       "    return false;\n",
       "}\n",
       "\n",
       "mpl.figure.prototype.toolbar_button_onclick = function(name) {\n",
       "    if (name == 'download') {\n",
       "        this.handle_save(this, null);\n",
       "    } else {\n",
       "        this.send_message(\"toolbar_button\", {name: name});\n",
       "    }\n",
       "};\n",
       "\n",
       "mpl.figure.prototype.toolbar_button_onmouseover = function(tooltip) {\n",
       "    this.message.textContent = tooltip;\n",
       "};\n",
       "mpl.toolbar_items = [[\"Home\", \"Reset original view\", \"fa fa-home icon-home\", \"home\"], [\"Back\", \"Back to previous view\", \"fa fa-arrow-left icon-arrow-left\", \"back\"], [\"Forward\", \"Forward to next view\", \"fa fa-arrow-right icon-arrow-right\", \"forward\"], [\"\", \"\", \"\", \"\"], [\"Pan\", \"Pan axes with left mouse, zoom with right\", \"fa fa-arrows icon-move\", \"pan\"], [\"Zoom\", \"Zoom to rectangle\", \"fa fa-square-o icon-check-empty\", \"zoom\"], [\"\", \"\", \"\", \"\"], [\"Download\", \"Download plot\", \"fa fa-floppy-o icon-save\", \"download\"]];\n",
       "\n",
       "mpl.extensions = [\"eps\", \"jpeg\", \"pdf\", \"png\", \"ps\", \"raw\", \"svg\", \"tif\"];\n",
       "\n",
       "mpl.default_extension = \"png\";var comm_websocket_adapter = function(comm) {\n",
       "    // Create a \"websocket\"-like object which calls the given IPython comm\n",
       "    // object with the appropriate methods. Currently this is a non binary\n",
       "    // socket, so there is still some room for performance tuning.\n",
       "    var ws = {};\n",
       "\n",
       "    ws.close = function() {\n",
       "        comm.close()\n",
       "    };\n",
       "    ws.send = function(m) {\n",
       "        //console.log('sending', m);\n",
       "        comm.send(m);\n",
       "    };\n",
       "    // Register the callback with on_msg.\n",
       "    comm.on_msg(function(msg) {\n",
       "        //console.log('receiving', msg['content']['data'], msg);\n",
       "        // Pass the mpl event to the overridden (by mpl) onmessage function.\n",
       "        ws.onmessage(msg['content']['data'])\n",
       "    });\n",
       "    return ws;\n",
       "}\n",
       "\n",
       "mpl.mpl_figure_comm = function(comm, msg) {\n",
       "    // This is the function which gets called when the mpl process\n",
       "    // starts-up an IPython Comm through the \"matplotlib\" channel.\n",
       "\n",
       "    var id = msg.content.data.id;\n",
       "    // Get hold of the div created by the display call when the Comm\n",
       "    // socket was opened in Python.\n",
       "    var element = $(\"#\" + id);\n",
       "    var ws_proxy = comm_websocket_adapter(comm)\n",
       "\n",
       "    function ondownload(figure, format) {\n",
       "        window.open(figure.imageObj.src);\n",
       "    }\n",
       "\n",
       "    var fig = new mpl.figure(id, ws_proxy,\n",
       "                           ondownload,\n",
       "                           element.get(0));\n",
       "\n",
       "    // Call onopen now - mpl needs it, as it is assuming we've passed it a real\n",
       "    // web socket which is closed, not our websocket->open comm proxy.\n",
       "    ws_proxy.onopen();\n",
       "\n",
       "    fig.parent_element = element.get(0);\n",
       "    fig.cell_info = mpl.find_output_cell(\"<div id='\" + id + \"'></div>\");\n",
       "    if (!fig.cell_info) {\n",
       "        console.error(\"Failed to find cell for figure\", id, fig);\n",
       "        return;\n",
       "    }\n",
       "\n",
       "    var output_index = fig.cell_info[2]\n",
       "    var cell = fig.cell_info[0];\n",
       "\n",
       "};\n",
       "\n",
       "mpl.figure.prototype.handle_close = function(fig, msg) {\n",
       "    var width = fig.canvas.width/mpl.ratio\n",
       "    fig.root.unbind('remove')\n",
       "\n",
       "    // Update the output cell to use the data from the current canvas.\n",
       "    fig.push_to_output();\n",
       "    var dataURL = fig.canvas.toDataURL();\n",
       "    // Re-enable the keyboard manager in IPython - without this line, in FF,\n",
       "    // the notebook keyboard shortcuts fail.\n",
       "    IPython.keyboard_manager.enable()\n",
       "    $(fig.parent_element).html('<img src=\"' + dataURL + '\" width=\"' + width + '\">');\n",
       "    fig.close_ws(fig, msg);\n",
       "}\n",
       "\n",
       "mpl.figure.prototype.close_ws = function(fig, msg){\n",
       "    fig.send_message('closing', msg);\n",
       "    // fig.ws.close()\n",
       "}\n",
       "\n",
       "mpl.figure.prototype.push_to_output = function(remove_interactive) {\n",
       "    // Turn the data on the canvas into data in the output cell.\n",
       "    var width = this.canvas.width/mpl.ratio\n",
       "    var dataURL = this.canvas.toDataURL();\n",
       "    this.cell_info[1]['text/html'] = '<img src=\"' + dataURL + '\" width=\"' + width + '\">';\n",
       "}\n",
       "\n",
       "mpl.figure.prototype.updated_canvas_event = function() {\n",
       "    // Tell IPython that the notebook contents must change.\n",
       "    IPython.notebook.set_dirty(true);\n",
       "    this.send_message(\"ack\", {});\n",
       "    var fig = this;\n",
       "    // Wait a second, then push the new image to the DOM so\n",
       "    // that it is saved nicely (might be nice to debounce this).\n",
       "    setTimeout(function () { fig.push_to_output() }, 1000);\n",
       "}\n",
       "\n",
       "mpl.figure.prototype._init_toolbar = function() {\n",
       "    var fig = this;\n",
       "\n",
       "    var nav_element = $('<div/>');\n",
       "    nav_element.attr('style', 'width: 100%');\n",
       "    this.root.append(nav_element);\n",
       "\n",
       "    // Define a callback function for later on.\n",
       "    function toolbar_event(event) {\n",
       "        return fig.toolbar_button_onclick(event['data']);\n",
       "    }\n",
       "    function toolbar_mouse_event(event) {\n",
       "        return fig.toolbar_button_onmouseover(event['data']);\n",
       "    }\n",
       "\n",
       "    for(var toolbar_ind in mpl.toolbar_items){\n",
       "        var name = mpl.toolbar_items[toolbar_ind][0];\n",
       "        var tooltip = mpl.toolbar_items[toolbar_ind][1];\n",
       "        var image = mpl.toolbar_items[toolbar_ind][2];\n",
       "        var method_name = mpl.toolbar_items[toolbar_ind][3];\n",
       "\n",
       "        if (!name) { continue; };\n",
       "\n",
       "        var button = $('<button class=\"btn btn-default\" href=\"#\" title=\"' + name + '\"><i class=\"fa ' + image + ' fa-lg\"></i></button>');\n",
       "        button.click(method_name, toolbar_event);\n",
       "        button.mouseover(tooltip, toolbar_mouse_event);\n",
       "        nav_element.append(button);\n",
       "    }\n",
       "\n",
       "    // Add the status bar.\n",
       "    var status_bar = $('<span class=\"mpl-message\" style=\"text-align:right; float: right;\"/>');\n",
       "    nav_element.append(status_bar);\n",
       "    this.message = status_bar[0];\n",
       "\n",
       "    // Add the close button to the window.\n",
       "    var buttongrp = $('<div class=\"btn-group inline pull-right\"></div>');\n",
       "    var button = $('<button class=\"btn btn-mini btn-primary\" href=\"#\" title=\"Stop Interaction\"><i class=\"fa fa-power-off icon-remove icon-large\"></i></button>');\n",
       "    button.click(function (evt) { fig.handle_close(fig, {}); } );\n",
       "    button.mouseover('Stop Interaction', toolbar_mouse_event);\n",
       "    buttongrp.append(button);\n",
       "    var titlebar = this.root.find($('.ui-dialog-titlebar'));\n",
       "    titlebar.prepend(buttongrp);\n",
       "}\n",
       "\n",
       "mpl.figure.prototype._root_extra_style = function(el){\n",
       "    var fig = this\n",
       "    el.on(\"remove\", function(){\n",
       "\tfig.close_ws(fig, {});\n",
       "    });\n",
       "}\n",
       "\n",
       "mpl.figure.prototype._canvas_extra_style = function(el){\n",
       "    // this is important to make the div 'focusable\n",
       "    el.attr('tabindex', 0)\n",
       "    // reach out to IPython and tell the keyboard manager to turn it's self\n",
       "    // off when our div gets focus\n",
       "\n",
       "    // location in version 3\n",
       "    if (IPython.notebook.keyboard_manager) {\n",
       "        IPython.notebook.keyboard_manager.register_events(el);\n",
       "    }\n",
       "    else {\n",
       "        // location in version 2\n",
       "        IPython.keyboard_manager.register_events(el);\n",
       "    }\n",
       "\n",
       "}\n",
       "\n",
       "mpl.figure.prototype._key_event_extra = function(event, name) {\n",
       "    var manager = IPython.notebook.keyboard_manager;\n",
       "    if (!manager)\n",
       "        manager = IPython.keyboard_manager;\n",
       "\n",
       "    // Check for shift+enter\n",
       "    if (event.shiftKey && event.which == 13) {\n",
       "        this.canvas_div.blur();\n",
       "        // select the cell after this one\n",
       "        var index = IPython.notebook.find_cell_index(this.cell_info[0]);\n",
       "        IPython.notebook.select(index + 1);\n",
       "    }\n",
       "}\n",
       "\n",
       "mpl.figure.prototype.handle_save = function(fig, msg) {\n",
       "    fig.ondownload(fig, null);\n",
       "}\n",
       "\n",
       "\n",
       "mpl.find_output_cell = function(html_output) {\n",
       "    // Return the cell and output element which can be found *uniquely* in the notebook.\n",
       "    // Note - this is a bit hacky, but it is done because the \"notebook_saving.Notebook\"\n",
       "    // IPython event is triggered only after the cells have been serialised, which for\n",
       "    // our purposes (turning an active figure into a static one), is too late.\n",
       "    var cells = IPython.notebook.get_cells();\n",
       "    var ncells = cells.length;\n",
       "    for (var i=0; i<ncells; i++) {\n",
       "        var cell = cells[i];\n",
       "        if (cell.cell_type === 'code'){\n",
       "            for (var j=0; j<cell.output_area.outputs.length; j++) {\n",
       "                var data = cell.output_area.outputs[j];\n",
       "                if (data.data) {\n",
       "                    // IPython >= 3 moved mimebundle to data attribute of output\n",
       "                    data = data.data;\n",
       "                }\n",
       "                if (data['text/html'] == html_output) {\n",
       "                    return [cell, data, j];\n",
       "                }\n",
       "            }\n",
       "        }\n",
       "    }\n",
       "}\n",
       "\n",
       "// Register the function which deals with the matplotlib target/channel.\n",
       "// The kernel may be null if the page has been refreshed.\n",
       "if (IPython.notebook.kernel != null) {\n",
       "    IPython.notebook.kernel.comm_manager.register_target('matplotlib', mpl.mpl_figure_comm);\n",
       "}\n"
      ],
      "text/plain": [
       "<IPython.core.display.Javascript object>"
      ]
     },
     "metadata": {},
     "output_type": "display_data"
    },
    {
     "data": {
      "text/html": [
       "<img src=\"data:image/png;base64,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\" width=\"640\">"
      ],
      "text/plain": [
       "<IPython.core.display.HTML object>"
      ]
     },
     "metadata": {},
     "output_type": "display_data"
    },
    {
     "data": {
      "text/plain": [
       "Text(0.5, 0, 'y')"
      ]
     },
     "execution_count": 21,
     "metadata": {},
     "output_type": "execute_result"
    }
   ],
   "source": [
    "from mpl_toolkits.mplot3d import Axes3D\n",
    "\n",
    "#activez cette ligne pour manipuler le graph 3D\n",
    "%matplotlib notebook \n",
    "\n",
    "fig = plt.figure()\n",
    "ax = fig.add_subplot(111, projection='3d')\n",
    "\n",
    "ax.scatter(x[:,0], x[:,1], y) # affiche en 3D la variable x_1, x_2, et la target y\n",
    "\n",
    "# affiche les noms des axes\n",
    "ax.set_xlabel('x_1')\n",
    "ax.set_ylabel('x_2')\n",
    "ax.set_zlabel('y')"
   ]
  },
  {
   "cell_type": "code",
   "execution_count": null,
   "metadata": {},
   "outputs": [],
   "source": [
    "# Verification des dimensions\n",
    "print(x.shape)\n",
    "print(y.shape)\n",
    "\n",
    "# redimensionner y\n",
    "y = y.reshape(y.shape[0], 1)\n",
    "print(y.shape)"
   ]
  },
  {
   "cell_type": "code",
   "execution_count": null,
   "metadata": {},
   "outputs": [],
   "source": [
    "# Création de la matrice X, inclut le Biais\n",
    "X = np.hstack((x, np.ones((x.shape[0], 1)))) # ajoute un vecteur Biais de dimension (x.shape[0], 1)\n",
    "\n",
    "print(X.shape)\n",
    "print(X[:10])"
   ]
  },
  {
   "cell_type": "code",
   "execution_count": null,
   "metadata": {},
   "outputs": [],
   "source": [
    "# Initialisation du vecteur theta aléatoire, avec 3 éléments (car X a trois colonnes)\n",
    "theta = np.random.randn(3, 1)\n",
    "theta"
   ]
  },
  {
   "cell_type": "markdown",
   "metadata": {},
   "source": [
    "## 2.2 Modèle Linéaire\n",
    "## 2.3 Fonction Cout\n",
    "## 2.4 Gradient Descent\n",
    "\n",
    "Nos fonctions étant déjà implémentées, inutile de les réécrire. Passons imédiatement à la phase d'entrainement !"
   ]
  },
  {
   "cell_type": "markdown",
   "metadata": {},
   "source": [
    "## 2.5 Phase d'entrainement"
   ]
  },
  {
   "cell_type": "code",
   "execution_count": null,
   "metadata": {},
   "outputs": [],
   "source": [
    "n_iterations = 1000\n",
    "learning_rate = 0.01\n",
    "\n",
    "theta_final, cost_history = gradient_descent(X, y, theta, learning_rate, n_iterations)"
   ]
  },
  {
   "cell_type": "code",
   "execution_count": null,
   "metadata": {},
   "outputs": [],
   "source": [
    "# création d'un vecteur prédictions qui contient les prédictions de notre modele final\n",
    "predictions = model(X, theta_final)\n",
    "\n",
    "theta_final"
   ]
  },
  {
   "cell_type": "code",
   "execution_count": null,
   "metadata": {},
   "outputs": [],
   "source": [
    "fig = plt.figure()\n",
    "ax = fig.add_subplot(111, projection='3d')\n",
    "\n",
    "ax.scatter(x[:,0], x[:,1], y)\n",
    "ax.scatter(x[:,0], x[:,1], predictions)"
   ]
  },
  {
   "cell_type": "markdown",
   "metadata": {},
   "source": [
    "## 2.6 Courbe d'apprentissage"
   ]
  },
  {
   "cell_type": "code",
   "execution_count": null,
   "metadata": {},
   "outputs": [],
   "source": [
    "plt.plot(range(n_iterations), cost_history)"
   ]
  },
  {
   "cell_type": "markdown",
   "metadata": {},
   "source": [
    "## 1.7 Evaluation finale"
   ]
  },
  {
   "cell_type": "code",
   "execution_count": null,
   "metadata": {},
   "outputs": [],
   "source": [
    "coef_determination(y, predictions)"
   ]
  },
  {
   "cell_type": "markdown",
   "metadata": {},
   "source": [
    "Merci d'avoir suivi ce tutoriel. Abonnez-vous a ma chaine youtube pour ne pas louper d'autres tutos (chaque semaine de nouvelles vidéos!) https://www.youtube.com/channel/UCmpptkXu8iIFe6kfDK5o7VQ"
   ]
  },
  {
   "cell_type": "code",
   "execution_count": null,
   "metadata": {},
   "outputs": [],
   "source": []
  },
  {
   "cell_type": "code",
   "execution_count": null,
   "metadata": {},
   "outputs": [],
   "source": []
  },
  {
   "cell_type": "code",
   "execution_count": null,
   "metadata": {},
   "outputs": [],
   "source": []
  }
 ],
 "metadata": {
  "kernelspec": {
   "display_name": "Python 3",
   "language": "python",
   "name": "python3"
  },
  "language_info": {
   "codemirror_mode": {
    "name": "ipython",
    "version": 3
   },
   "file_extension": ".py",
   "mimetype": "text/x-python",
   "name": "python",
   "nbconvert_exporter": "python",
   "pygments_lexer": "ipython3",
   "version": "3.7.6"
  }
 },
 "nbformat": 4,
 "nbformat_minor": 2
}
