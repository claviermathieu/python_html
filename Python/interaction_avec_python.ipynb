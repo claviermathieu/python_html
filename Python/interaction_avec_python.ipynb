{
 "cells": [
  {
   "cell_type": "markdown",
   "metadata": {
    "toc": true
   },
   "source": [
    "<h1>Table of Contents<span class=\"tocSkip\"></span></h1>\n",
    "<div class=\"toc\"><ul class=\"toc-item\"><li><span><a href=\"#Intéraction-avec-Python\" data-toc-modified-id=\"Intéraction-avec-Python-1\"><span class=\"toc-item-num\">1&nbsp;&nbsp;</span>Intéraction avec Python</a></span></li><li><span><a href=\"#Plotting\" data-toc-modified-id=\"Plotting-2\"><span class=\"toc-item-num\">2&nbsp;&nbsp;</span>Plotting</a></span></li><li><span><a href=\"#Nb-Interact\" data-toc-modified-id=\"Nb-Interact-3\"><span class=\"toc-item-num\">3&nbsp;&nbsp;</span>Nb Interact</a></span><ul class=\"toc-item\"><li><span><a href=\"#Le-premier-nbinteract\" data-toc-modified-id=\"Le-premier-nbinteract-3.1\"><span class=\"toc-item-num\">3.1&nbsp;&nbsp;</span>Le premier nbinteract</a></span></li><li><span><a href=\"#Le-deuxième-nbInteract\" data-toc-modified-id=\"Le-deuxième-nbInteract-3.2\"><span class=\"toc-item-num\">3.2&nbsp;&nbsp;</span>Le deuxième nbInteract</a></span></li></ul></li></ul></div>"
   ]
  },
  {
   "cell_type": "markdown",
   "metadata": {},
   "source": [
    "# Intéraction avec Python"
   ]
  },
  {
   "cell_type": "code",
   "execution_count": 1,
   "metadata": {},
   "outputs": [],
   "source": [
    "import matplotlib.pyplot as plt\n",
    "import ipywidgets as ipw\n",
    "import numpy as np\n",
    "import nbinteract as nbi\n",
    "\n",
    "%matplotlib inline"
   ]
  },
  {
   "cell_type": "code",
   "execution_count": 2,
   "metadata": {},
   "outputs": [
    {
     "data": {
      "application/vnd.jupyter.widget-view+json": {
       "model_id": "9ceb655b25434f10b4c289abd8bb6b0f",
       "version_major": 2,
       "version_minor": 0
      },
      "text/plain": [
       "SelectMultiple(description='Fruits', index=(1,), options=('Apples', 'Oranges', 'Pears'), value=('Oranges',))"
      ]
     },
     "metadata": {},
     "output_type": "display_data"
    }
   ],
   "source": [
    "ipw.SelectMultiple(\n",
    "    options=['Apples', 'Oranges', 'Pears'],\n",
    "    value=['Oranges'],\n",
    "    #rows=10,\n",
    "    description='Fruits',\n",
    "    disabled=False\n",
    ")"
   ]
  },
  {
   "cell_type": "code",
   "execution_count": 3,
   "metadata": {},
   "outputs": [
    {
     "data": {
      "application/vnd.jupyter.widget-view+json": {
       "model_id": "a8ed93e0b8f24487ab8e453b28b6c2b6",
       "version_major": 2,
       "version_minor": 0
      },
      "text/plain": [
       "RadioButtons(description='n =', options=(10, '100', '1000'), value=10)"
      ]
     },
     "metadata": {},
     "output_type": "display_data"
    }
   ],
   "source": [
    "bb= ipw.RadioButtons(\n",
    "    options=[10, '100', '1000'],\n",
    "  #  value=['10', '100', '1000'], # Defaults to 'pineapple'\n",
    "#    layout={'width': 'max-content'}, # If the items' names are long\n",
    "    description='n =',\n",
    "    disabled=False\n",
    ")\n",
    "display(bb)"
   ]
  },
  {
   "cell_type": "code",
   "execution_count": 4,
   "metadata": {},
   "outputs": [
    {
     "data": {
      "text/plain": [
       "10"
      ]
     },
     "execution_count": 4,
     "metadata": {},
     "output_type": "execute_result"
    }
   ],
   "source": [
    "bb.value"
   ]
  },
  {
   "cell_type": "markdown",
   "metadata": {},
   "source": [
    "# Plotting"
   ]
  },
  {
   "cell_type": "code",
   "execution_count": null,
   "metadata": {},
   "outputs": [],
   "source": []
  },
  {
   "cell_type": "code",
   "execution_count": 5,
   "metadata": {},
   "outputs": [],
   "source": [
    "#nbi:hide_in\n",
    "rolls = np.random.choice([1,2,3,4,5,6], size = 300)\n",
    "averages = np.cumsum(rolls) / np.arange(1,301)\n",
    "\n",
    "def plotting_function(num_rolls):\n",
    "    plt.figure(figsize=(14,5))\n",
    "    plt.plot(np.arange(1,301)[:num_rolls], averages[:num_rolls])"
   ]
  },
  {
   "cell_type": "code",
   "execution_count": 6,
   "metadata": {},
   "outputs": [
    {
     "data": {
      "application/vnd.jupyter.widget-view+json": {
       "model_id": "1b1b433b476d492782013370163c5161",
       "version_major": 2,
       "version_minor": 0
      },
      "text/plain": [
       "interactive(children=(IntSlider(value=150, description='num_rolls', max=300), Output()), _dom_classes=('widget…"
      ]
     },
     "metadata": {},
     "output_type": "display_data"
    },
    {
     "data": {
      "text/plain": [
       "<function __main__.plotting_function(num_rolls)>"
      ]
     },
     "execution_count": 6,
     "metadata": {},
     "output_type": "execute_result"
    }
   ],
   "source": [
    "#nbi:hide_in\n",
    "ipw.interact(plotting_function, num_rolls=(0,300))"
   ]
  },
  {
   "cell_type": "markdown",
   "metadata": {},
   "source": [
    "# Nb Interact "
   ]
  },
  {
   "cell_type": "markdown",
   "metadata": {},
   "source": [
    "## Le premier nbinteract "
   ]
  },
  {
   "cell_type": "code",
   "execution_count": 7,
   "metadata": {},
   "outputs": [],
   "source": [
    "def x_vals(n):\n",
    "    return np.arange(n)\n",
    "\n",
    "def y_vals(xs, power):\n",
    "    return xs**power"
   ]
  },
  {
   "cell_type": "code",
   "execution_count": 8,
   "metadata": {},
   "outputs": [
    {
     "data": {
      "application/vnd.jupyter.widget-view+json": {
       "model_id": "5e83c237bf794e78bf159c45e6b7d2cd",
       "version_major": 2,
       "version_minor": 0
      },
      "text/plain": [
       "VBox(children=(interactive(children=(IntSlider(value=5, description='n', max=10, min=1), IntSlider(value=3, de…"
      ]
     },
     "metadata": {},
     "output_type": "display_data"
    }
   ],
   "source": [
    "nbi.line(x_vals, y_vals, n=(1,10), power=(1,5))"
   ]
  },
  {
   "cell_type": "markdown",
   "metadata": {},
   "source": [
    "## Le deuxième nbInteract"
   ]
  },
  {
   "cell_type": "code",
   "execution_count": 9,
   "metadata": {
    "scrolled": false
   },
   "outputs": [
    {
     "data": {
      "application/vnd.jupyter.widget-view+json": {
       "model_id": "73bf806243c446f8803844da2a41069f",
       "version_major": 2,
       "version_minor": 0
      },
      "text/plain": [
       "VBox(children=(interactive(children=(IntSlider(value=200, description='num_rolls', max=400, min=1), Output()),…"
      ]
     },
     "metadata": {},
     "output_type": "display_data"
    }
   ],
   "source": [
    "#nbi:hide_in\n",
    "\n",
    "rolls = np.random.choice([1, 2, 3, 4, 5, 6], size=300)\n",
    "averages = np.cumsum(rolls) / np.arange(1, 301)\n",
    "\n",
    "def x_vals(num_rolls):\n",
    "    return range(num_rolls)\n",
    "\n",
    "# The function to generate y-values gets called with the\n",
    "# x-values as its first argument.\n",
    "def y_vals(xs):\n",
    "    return averages[:len(xs)]\n",
    "\n",
    "nbi.line(x_vals, y_vals, num_rolls=(1, 400))"
   ]
  }
 ],
 "metadata": {
  "kernelspec": {
   "display_name": "Python 3",
   "language": "python",
   "name": "python3"
  },
  "language_info": {
   "codemirror_mode": {
    "name": "ipython",
    "version": 3
   },
   "file_extension": ".py",
   "mimetype": "text/x-python",
   "name": "python",
   "nbconvert_exporter": "python",
   "pygments_lexer": "ipython3",
   "version": "3.7.6"
  },
  "toc": {
   "base_numbering": 1,
   "nav_menu": {},
   "number_sections": true,
   "sideBar": true,
   "skip_h1_title": false,
   "title_cell": "Table of Contents",
   "title_sidebar": "Contents",
   "toc_cell": true,
   "toc_position": {
    "height": "calc(100% - 180px)",
    "left": "10px",
    "top": "150px",
    "width": "384px"
   },
   "toc_section_display": true,
   "toc_window_display": true
  }
 },
 "nbformat": 4,
 "nbformat_minor": 2
}
